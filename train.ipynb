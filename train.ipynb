{
 "cells": [
  {
   "cell_type": "markdown",
   "metadata": {},
   "source": [
    "Based on https://pytorch.org/tutorials/intermediate/seq2seq_translation_tutorial.html"
   ]
  },
  {
   "cell_type": "markdown",
   "metadata": {},
   "source": [
    "# Functionality\n",
    "- [x] Load labelled data from file\n",
    "- [x] Train model on loaded data\n",
    "- [x] Graph loss function over time\n",
    "- [x] Evaluate model on given input sentence\n",
    "- [x] Save model checkpoints during training\n",
    "- [x] Load model from checkpoint\n",
    "- [ ] Have some mechanism for dealing with rare words\n",
    "- [ ] Separate labelled data into training and evaluation"
   ]
  },
  {
   "cell_type": "code",
   "execution_count": 1,
   "metadata": {},
   "outputs": [],
   "source": [
    "import re\n",
    "import os\n",
    "import time\n",
    "import random\n",
    "from IPython import display\n",
    "%matplotlib inline\n",
    "import matplotlib.pyplot as plt\n",
    "import matplotlib.ticker as ticker\n",
    "\n",
    "\n",
    "import torch\n",
    "import torch.nn as nn\n",
    "from torch import optim\n",
    "import torch.nn.functional as F"
   ]
  },
  {
   "cell_type": "code",
   "execution_count": 2,
   "metadata": {},
   "outputs": [],
   "source": [
    "device = torch.device(\"cuda\" if torch.cuda.is_available() else \"cpu\")\n",
    "\n",
    "labelled_data_path = \"labelled.txt\"\n",
    "models_dir = \"models\"\n",
    "num_samples = 1000 # This seems to be a limiting factor memory-wise\n",
    "\n",
    "# Make sure that these symbols are never in the training data\n",
    "start_symbol = \"<START>\"\n",
    "end_symbol = \"<END>\"\n",
    "start_symbol_index = 0  # These values can't change\n",
    "end_symbol_index = 1   # ^^^\n",
    "\n",
    "max_sentence_length = 128\n",
    "teacher_forcing_ratio = 0.5"
   ]
  },
  {
   "cell_type": "code",
   "execution_count": 3,
   "metadata": {},
   "outputs": [
    {
     "data": {
      "image/png": "[encoded data removed]",
      "text/plain": [
       "<Figure size 1920x480 with 1 Axes>"
      ]
     },
     "metadata": {},
     "output_type": "display_data"
    }
   ],
   "source": [
    "def format_time(seconds):\n",
    "    if seconds < 60:\n",
    "        return f\"{seconds:.2f}s\"\n",
    "    elif seconds < 3600:\n",
    "        return f\"{(seconds/60):.2f}min\"\n",
    "    else:\n",
    "        return f\"{(seconds/3600):.2f}hr\"\n",
    "\n",
    "fig, ax = plt.subplots(figsize=(24, 6), dpi=80)\n",
    "ax.set_xlabel(\"Iter\")\n",
    "ax.set_ylabel(\"Loss\")\n",
    "ax.xaxis.set_major_locator(ticker.MultipleLocator(base=100.0))\n",
    "ax.xaxis.set_minor_locator(ticker.MultipleLocator(base=10.0))\n",
    "ax.yaxis.set_major_locator(ticker.MultipleLocator(base=1.0))\n",
    "ax.yaxis.set_minor_locator(ticker.MultipleLocator(base=0.2))\n",
    "ax.grid(which=\"major\", color=\"#888888\")\n",
    "ax.grid(which=\"minor\", color=\"#bbbbbb\")\n",
    "fig.patch.set_facecolor(\"white\")\n",
    "\n",
    "def show_plot(iters, losses):\n",
    "    for l in ax.lines:\n",
    "        l.remove()\n",
    "    ax.plot(iters, losses, c=\"blue\")\n",
    "    ax.autoscale()\n",
    "    ax.set_ylim(0, None)\n",
    "    display.update_display(fig, display_id=\"loss\")"
   ]
  },
  {
   "cell_type": "code",
   "execution_count": 4,
   "metadata": {},
   "outputs": [],
   "source": [
    "class Style:\n",
    "    def __init__(self, name):\n",
    "        self.name = name\n",
    "        self.words = [start_symbol, end_symbol]\n",
    "        self.word_to_index = {\n",
    "            start_symbol: start_symbol_index, end_symbol: end_symbol_index}\n",
    "        self.word_count = {}\n",
    "\n",
    "    def add_word(self, word):\n",
    "        if not word in self.word_to_index:\n",
    "            self.word_to_index[word] = len(self.words)\n",
    "            self.words.append(word)\n",
    "            self.word_count[word] = 1\n",
    "        else:\n",
    "            self.word_count[word] += 1\n",
    "\n",
    "    def add_sentence(self, sentence, max_length=max_sentence_length):\n",
    "        for word in re.findall(r\"[A-Za-z-']+|[^ ]+\", sentence)[:max_length-1]:\n",
    "            self.add_word(word)\n",
    "\n",
    "    def get_sentence_indices(self, sentence, max_length=max_sentence_length):\n",
    "        return list(self.word_to_index[word] for word in re.findall(r\"[A-Za-z-']+|[^ ]+\", sentence) if word in self.word_to_index)[:max_length-1]\n",
    "\n",
    "\n",
    "def load_styles(style1, style2):\n",
    "    with open(labelled_data_path, \"r\") as l:\n",
    "        lines = [x.strip() for x in l.readlines() if x.strip() != \"\"]\n",
    "\n",
    "    pairs = [(lines[i], lines[i+1]) for i in range(0, min(len(lines),num_samples*2), 2)]\n",
    "\n",
    "    s1 = Style(style1)\n",
    "    s2 = Style(style2)\n",
    "    for x, y in pairs:\n",
    "        s1.add_sentence(x)\n",
    "        s2.add_sentence(y)\n",
    "\n",
    "    return s1, s2, pairs\n",
    "\n",
    "def get_sentence_tensor(style, sentence):\n",
    "    indices = style.get_sentence_indices(sentence)\n",
    "    indices.append(end_symbol_index)\n",
    "    return torch.tensor(indices, dtype=torch.long, device=device).view(-1, 1)\n",
    "\n",
    "\n",
    "def get_pair_tensors(style1, style2, pair):\n",
    "    x = get_sentence_tensor(style1, pair[0])\n",
    "    desired_y = get_sentence_tensor(style2, pair[1])\n",
    "    return (x, desired_y)"
   ]
  },
  {
   "cell_type": "code",
   "execution_count": 5,
   "metadata": {},
   "outputs": [],
   "source": [
    "formal, casual, pairs = load_styles(\"formal\", \"casual\")"
   ]
  },
  {
   "cell_type": "code",
   "execution_count": 6,
   "metadata": {},
   "outputs": [],
   "source": [
    "class EncoderRNN(nn.Module):\n",
    "    def __init__(self, input_size, hidden_size):\n",
    "        super(EncoderRNN, self).__init__()\n",
    "        self.input_size = input_size\n",
    "        self.hidden_size = hidden_size\n",
    "\n",
    "        self.embedding = nn.Embedding(self.input_size, self.hidden_size)\n",
    "        self.gru = nn.GRU(self.hidden_size, self.hidden_size)\n",
    "\n",
    "    def forward(self, x, hidden):\n",
    "        embedded = self.embedding(x).view(1, 1, -1)\n",
    "        y = embedded\n",
    "        y, hidden = self.gru(y, hidden)\n",
    "        return y, hidden\n",
    "\n",
    "    def init_hidden(self):\n",
    "        return torch.zeros(1, 1, self.hidden_size, device=device)"
   ]
  },
  {
   "cell_type": "code",
   "execution_count": 7,
   "metadata": {},
   "outputs": [],
   "source": [
    "class AttnDecoderRNN(nn.Module):\n",
    "    def __init__(self, hidden_size, output_size, dropout_p=0.1, max_length=max_sentence_length):\n",
    "        super(AttnDecoderRNN, self).__init__()\n",
    "        self.hidden_size = hidden_size\n",
    "        self.output_size = output_size\n",
    "        self.dropout_p = dropout_p\n",
    "        self.max_length = max_length\n",
    "\n",
    "        self.embedding = nn.Embedding(self.output_size, self.hidden_size)\n",
    "        self.attn = nn.Linear(self.hidden_size * 2, self.max_length)\n",
    "        self.attn_combine = nn.Linear(self.hidden_size * 2, self.hidden_size)\n",
    "        self.dropout = nn.Dropout(self.dropout_p)\n",
    "        self.gru = nn.GRU(self.hidden_size, self.hidden_size)\n",
    "        self.out = nn.Linear(self.hidden_size, self.hidden_size)\n",
    "\n",
    "    def forward(self, x, hidden, encoder_outputs):\n",
    "        embedded = self.embedding(x).view(1, 1, -1)\n",
    "        embedded = self.dropout(embedded)\n",
    "\n",
    "        attn_weights = F.softmax(\n",
    "            self.attn(torch.cat((embedded[0], hidden[0]), 1)),\n",
    "            dim=1\n",
    "        )\n",
    "\n",
    "        attn_applied = torch.bmm(attn_weights.unsqueeze(\n",
    "            0), encoder_outputs.unsqueeze(0))\n",
    "\n",
    "        y = torch.cat((embedded[0], attn_applied[0]), 1)\n",
    "        y = self.attn_combine(y).unsqueeze(0)\n",
    "\n",
    "        y = F.relu(y)\n",
    "        y, hidden = self.gru(y, hidden)\n",
    "\n",
    "        y = F.log_softmax(self.out(y[0]), dim=1)\n",
    "        return y, hidden, attn_weights\n",
    "\n",
    "    def init_hidden(self):\n",
    "        return torch.zeros(1, 1, self.hidden_size, device=device)"
   ]
  },
  {
   "cell_type": "code",
   "execution_count": 8,
   "metadata": {},
   "outputs": [],
   "source": [
    "def train(x, desired_y, encoder, decoder, encoder_optimizer, decoder_optimizer, criterion, max_length=max_sentence_length):\n",
    "    encoder_hidden = encoder.init_hidden()\n",
    "\n",
    "    encoder_optimizer.zero_grad()\n",
    "    decoder_optimizer.zero_grad()\n",
    "\n",
    "    x_length = x.size(0)\n",
    "    desired_y_length = desired_y.size(0)\n",
    "\n",
    "    encoder_outputs = torch.zeros(\n",
    "        max_length, encoder.hidden_size, device=device)\n",
    "\n",
    "    loss = 0\n",
    "\n",
    "    for ei in range(x_length):\n",
    "        encoder_output, encoder_hidden = encoder(x[ei], encoder_hidden)\n",
    "        encoder_outputs[ei] = encoder_output[0, 0]\n",
    "\n",
    "    decoder_input = torch.tensor([[start_symbol_index]], device=device)\n",
    "\n",
    "    decoder_hidden = encoder_hidden\n",
    "\n",
    "    use_teacher_forcing = random.random() < teacher_forcing_ratio\n",
    "\n",
    "    if use_teacher_forcing:\n",
    "        for di in range(desired_y_length):\n",
    "            decoder_output, decoder_hidden, decoder_attn = decoder(\n",
    "                decoder_input,\n",
    "                decoder_hidden,\n",
    "                encoder_outputs\n",
    "            )\n",
    "            loss += criterion(decoder_output, desired_y[di])\n",
    "            decoder_input = desired_y[di]\n",
    "\n",
    "    else:\n",
    "        for di in range(desired_y_length):\n",
    "            decoder_output, decoder_hidden, decoder_attn = decoder(\n",
    "                decoder_input,\n",
    "                decoder_hidden,\n",
    "                encoder_outputs\n",
    "            )\n",
    "            topv, topi = decoder_output.topk(1)\n",
    "            decoder_input = topi.squeeze().detach()\n",
    "\n",
    "            loss += criterion(decoder_output, desired_y[di])\n",
    "            if decoder_input.item() == end_symbol_index:\n",
    "                break\n",
    "\n",
    "    loss.backward()\n",
    "\n",
    "    encoder_optimizer.step()\n",
    "    decoder_optimizer.step()\n",
    "\n",
    "    return loss.item() / desired_y_length"
   ]
  },
  {
   "cell_type": "code",
   "execution_count": 9,
   "metadata": {},
   "outputs": [],
   "source": [
    "def train_iters(pair_tensors, encoder, decoder, n_iters, print_every=1000, plot_every=100, save_every=100, learning_rate=0.01):\n",
    "    start = time.time()\n",
    "    plot_iters = []\n",
    "    plot_losses = []\n",
    "    print_loss_total = 0\n",
    "    plot_loss_total = 0\n",
    "\n",
    "    saves = 0\n",
    "\n",
    "    encoder_optimizer = optim.SGD(encoder.parameters(), lr=learning_rate)\n",
    "    decoder_optimizer = optim.SGD(decoder.parameters(), lr=learning_rate)\n",
    "\n",
    "    training_pairs = [random.choice(pair_tensors) for _ in range(n_iters)]\n",
    "    criterion = nn.NLLLoss()\n",
    "    print(\"Training...\")\n",
    "    for iter, (x, desired_y) in enumerate(training_pairs):\n",
    "        loss = train(x, desired_y, encoder, decoder,\n",
    "                     encoder_optimizer, decoder_optimizer, criterion)\n",
    "        print_loss_total += loss\n",
    "        plot_loss_total += loss\n",
    "\n",
    "        if (iter + 1) % print_every == 0:\n",
    "            print_loss_avg = print_loss_total / print_every\n",
    "            print_loss_total = 0\n",
    "            elapsed = time.time() - start\n",
    "            print(f\"Iter [{iter+1}/{n_iters}] - {(100 * (iter+1)/n_iters):.4f}%, Elapsed: {format_time(elapsed)}, ETA: {format_time(elapsed/(iter+1) * (n_iters - iter - 1))}, Avg loss: {print_loss_avg:.5f}\")\n",
    "\n",
    "        if (iter + 1) % plot_every == 0:\n",
    "            plot_loss_avg = plot_loss_total / plot_every\n",
    "            plot_loss_total = 0\n",
    "            plot_iters.append(iter+1)\n",
    "            plot_losses.append(plot_loss_avg)\n",
    "\n",
    "            show_plot(plot_iters, plot_losses)\n",
    "        \n",
    "        if (iter + 1) % save_every == 0:\n",
    "            torch.save(encoder, os.path.join(models_dir, f\"encoder-{saves:04d}-{loss:.5f}.pkl\"))\n",
    "            torch.save(decoder, os.path.join(models_dir, f\"decoder-{saves:04d}-{loss:.5f}.pkl\"))\n",
    "            saves += 1"
   ]
  },
  {
   "cell_type": "code",
   "execution_count": 10,
   "metadata": {},
   "outputs": [],
   "source": [
    "def evaluate(encoder, decoder, sentence, input_style, output_style, max_length=max_sentence_length):\n",
    "    with torch.no_grad():\n",
    "        x = get_sentence_tensor(input_style, sentence)\n",
    "        x_length = x.size(0)\n",
    "        encoder_hidden = encoder.init_hidden()\n",
    "\n",
    "        encoder_outputs = torch.zeros(\n",
    "            max_length, encoder.hidden_size, device=device)\n",
    "\n",
    "        for ei in range(x_length):\n",
    "            encoder_output, encoder_hidden = encoder(x[ei], encoder_hidden)\n",
    "            encoder_outputs[ei] += encoder_output[0, 0]\n",
    "\n",
    "        decoder_input = torch.tensor([[start_symbol_index]], device=device)\n",
    "\n",
    "        decoder_hidden = encoder_hidden\n",
    "\n",
    "        decoded_words = []\n",
    "        decoder_attentions = torch.zeros(max_length, max_length)\n",
    "\n",
    "        for di in range(max_length):\n",
    "            decoder_output, decoder_hidden, decoder_attention = decoder(\n",
    "                decoder_input,\n",
    "                decoder_hidden,\n",
    "                encoder_outputs\n",
    "            )\n",
    "            decoder_attentions[di] = decoder_attention.data\n",
    "            topv, topi = decoder_output.data.topk(1)\n",
    "            if topi.item() == end_symbol_index:\n",
    "                decoded_words.append(end_symbol)\n",
    "                break\n",
    "            else:\n",
    "                decoded_words.append(output_style.words[topi.item()])\n",
    "\n",
    "            decoder_input = topi.squeeze().detach()\n",
    "\n",
    "        return decoded_words, decoder_attentions[:di + 1]"
   ]
  },
  {
   "cell_type": "markdown",
   "metadata": {},
   "source": [
    "# Delete Checkpoints"
   ]
  },
  {
   "cell_type": "code",
   "execution_count": 11,
   "metadata": {},
   "outputs": [],
   "source": [
    "# WARNING: DELETES ALL CHECKPOINTS\n",
    "if not os.path.isdir(models_dir):\n",
    "    os.makedirs(models_dir)\n",
    "\n",
    "for f in os.listdir(models_dir):\n",
    "    os.unlink(os.path.join(models_dir, f))"
   ]
  },
  {
   "cell_type": "markdown",
   "metadata": {},
   "source": [
    "# Create empty model"
   ]
  },
  {
   "cell_type": "code",
   "execution_count": 12,
   "metadata": {},
   "outputs": [
    {
     "name": "stdout",
     "output_type": "stream",
     "text": [
      "Creating new models with hidden size: 4112...\n"
     ]
    }
   ],
   "source": [
    "hidden_size = max(256, max(len(formal.words), len(casual.words)) + 1)\n",
    "print(f\"Creating new models with hidden size: {hidden_size}...\")\n",
    "pair_tensors = [get_pair_tensors(formal, casual, pair) for pair in pairs]\n",
    "\n",
    "encoder = EncoderRNN(len(formal.words), hidden_size).to(device)\n",
    "attn_decoder = AttnDecoderRNN(hidden_size, len(casual.words)).to(device)"
   ]
  },
  {
   "cell_type": "markdown",
   "metadata": {},
   "source": [
    "# Train Model"
   ]
  },
  {
   "cell_type": "code",
   "execution_count": 13,
   "metadata": {},
   "outputs": [
    {
     "data": {
      "image/png": "[encoded data removed]",
      "text/plain": [
       "<Figure size 1920x480 with 1 Axes>"
      ]
     },
     "metadata": {},
     "output_type": "display_data"
    },
    {
     "name": "stdout",
     "output_type": "stream",
     "text": [
      "Training...\n",
      "Iter [10/1000] - 1.0000%, Elapsed: 7.51s, ETA: 12.40min, Avg loss: 21.85550\n",
      "Iter [20/1000] - 2.0000%, Elapsed: 12.49s, ETA: 10.20min, Avg loss: 23.18746\n",
      "Iter [30/1000] - 3.0000%, Elapsed: 17.13s, ETA: 9.23min, Avg loss: 35.52082\n",
      "Iter [40/1000] - 4.0000%, Elapsed: 22.01s, ETA: 8.81min, Avg loss: 32.86688\n",
      "Iter [50/1000] - 5.0000%, Elapsed: 26.59s, ETA: 8.42min, Avg loss: 39.48292\n"
     ]
    }
   ],
   "source": [
    "display.display(fig, display_id=\"loss\")\n",
    "\n",
    "train_iters(pair_tensors, encoder, attn_decoder, 1000, print_every=10, plot_every=10, save_every=50)"
   ]
  },
  {
   "cell_type": "markdown",
   "metadata": {},
   "source": [
    "# Load Existing Model"
   ]
  },
  {
   "cell_type": "code",
   "execution_count": null,
   "metadata": {},
   "outputs": [],
   "source": [
    "all_models = sorted(os.listdir(models_dir))\n",
    "encoder_models = [m for m in all_models if m.startswith(\"encoder\")]\n",
    "decoder_models = [m for m in all_models if m.startswith(\"decoder\")]\n",
    "\n",
    "encoder_model = os.path.join(models_dir, encoder_models[-1])\n",
    "decoder_model = os.path.join(models_dir, decoder_models[-1])\n",
    "\n",
    "# Ensure that the models are from the same checkpoint\n",
    "assert encoder_model.replace(\"encoder\", \"\") == decoder_model.replace(\"decoder\", \"\")\n",
    "\n",
    "print(f\"Loading encoder from '{encoder_model}'...\")\n",
    "print(f\"Loading decoder from '{decoder_model}'...\")\n",
    "print(\"\\n\\n\")\n",
    "\n",
    "encoder = torch.load(encoder_model)\n",
    "attn_decoder = torch.load(decoder_model)"
   ]
  },
  {
   "cell_type": "markdown",
   "metadata": {},
   "source": [
    "# Test Model"
   ]
  },
  {
   "cell_type": "code",
   "execution_count": null,
   "metadata": {},
   "outputs": [],
   "source": [
    "sentence = \"You should seek medical attention.\"\n",
    "\n",
    "print(f\"\\\"{sentence}\\\"\")\n",
    "print(\"->\")\n",
    "start = time.time()\n",
    "decoded_words, _ = evaluate(encoder, attn_decoder, sentence, formal, casual)\n",
    "elapsed = time.time()-start\n",
    "print(decoded_words)\n",
    "print(f\"\\nTook {format_time(elapsed)}.\")"
   ]
  }
 ],
 "metadata": {
  "interpreter": {
   "hash": "36cf16204b8548560b1c020c4e8fb5b57f0e4c58016f52f2d4be01e192833930"
  },
  "kernelspec": {
   "display_name": "Python 3.9.5 64-bit",
   "language": "python",
   "name": "python3"
  },
  "language_info": {
   "codemirror_mode": {
    "name": "ipython",
    "version": 3
   },
   "file_extension": ".py",
   "mimetype": "text/x-python",
   "name": "python",
   "nbconvert_exporter": "python",
   "pygments_lexer": "ipython3",
   "version": "3.9.5"
  },
  "orig_nbformat": 4
 },
 "nbformat": 4,
 "nbformat_minor": 2
}
